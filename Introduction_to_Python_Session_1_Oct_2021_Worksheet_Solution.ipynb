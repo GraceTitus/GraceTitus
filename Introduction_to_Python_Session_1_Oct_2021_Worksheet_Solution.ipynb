{
  "nbformat": 4,
  "nbformat_minor": 0,
  "metadata": {
    "colab": {
      "provenance": [],
      "include_colab_link": true
    },
    "kernelspec": {
      "name": "python3",
      "display_name": "Python 3"
    }
  },
  "cells": [
    {
      "cell_type": "markdown",
      "metadata": {
        "id": "view-in-github",
        "colab_type": "text"
      },
      "source": [
        "<a href=\"https://colab.research.google.com/github/GraceTitus/GraceTitus/blob/main/Introduction_to_Python_Session_1_Oct_2021_Worksheet_Solution.ipynb\" target=\"_parent\"><img src=\"https://colab.research.google.com/assets/colab-badge.svg\" alt=\"Open In Colab\"/></a>"
      ]
    },
    {
      "cell_type": "markdown",
      "metadata": {
        "id": "UGv7_O1Lr80W"
      },
      "source": [
        "Welcome to this Colab where you will get a quick introduction to the Python programming language and the environment used for the course's exercises: Colab.\n",
        "Colab is a Python development environment that runs in the browser using Google Cloud.\n",
        "\n",
        "**Note**: Colab notebooks are based on Jupyter notebooks, a common way for Python users to run Python easily for a range of tasks including data science and machine learning. Colab notebooks are compatible with Jupyter as they are stored in the same .ipynb format.\n",
        "This session is designed to be an introduction to some of the key concepts in Python for beginners, without focusing on any particular area (e.g. data analysis, creating software, machine learning) that you might use Python for.\n",
        "\n"
      ]
    },
    {
      "cell_type": "markdown",
      "metadata": {
        "id": "x3mSWQO_9kQX"
      },
      "source": [
        "If you haven't already, at this point go to File > Save a copy in Drive so you have your own version of this notebook to run and edit Python code in. You'll need to log in to a Google account to do this.\n",
        "\n",
        "It is also possible to download this notebook in .ipynb format and use with Jupyter notebooks, instead of through Google Drive."
      ]
    },
    {
      "cell_type": "markdown",
      "metadata": {
        "id": "a2k2gLzi8JB7"
      },
      "source": [
        "A Brief Note on Python Versions\n",
        "As of Janurary 1, 2020, Python has officially dropped support for python2. We'll be using Python 3.7 for this iteration of the course. You can check your Python version at the command line by running python --version. In Colab, we can enforce the Python version by clicking Runtime -> Change Runtime Type and selecting python3. Note that as of April 2020, Colab uses Python 3.6.9 which should run everything without any errors."
      ]
    },
    {
      "cell_type": "markdown",
      "metadata": {
        "id": "1qotvm51-iZ1"
      },
      "source": [
        "Code cells can be 'run' to make the code execute, so you can see what it does. To run a code cell, click on the cell and either:\n",
        "\n",
        "Click on the Play icon on the left hand side\n",
        "Press **Ctrl+Enter** (or **CMD** on a Mac) to run the cell."
      ]
    },
    {
      "cell_type": "markdown",
      "metadata": {
        "id": "YWL-lMs8ec2b"
      },
      "source": [
        "Some resources as an introduction to coding:\n",
        "https://subjectguides.york.ac.uk/coding/introduction"
      ]
    },
    {
      "cell_type": "code",
      "metadata": {
        "id": "hArKLYrAo0t_"
      },
      "source": [
        "!python --version"
      ],
      "execution_count": null,
      "outputs": []
    },
    {
      "cell_type": "code",
      "metadata": {
        "id": "4fg-Flu89TGS"
      },
      "source": [
        "# This is a code cell\n",
        "# Any line starting with a hash symbol in Python is a comment - not for the computer to read\n",
        "# This allows you to add notes to yourself around what the code does\n",
        "# Test this out by running this cell - nothing should happen\n",
        "# print('You should not see this below when you run the code')"
      ],
      "execution_count": null,
      "outputs": []
    },
    {
      "cell_type": "markdown",
      "metadata": {
        "id": "C2r92-MUgRc4"
      },
      "source": [
        "**Challenge** - see if you can change line 5 to make it so that the line of code will run, and then run that cell again."
      ]
    },
    {
      "cell_type": "code",
      "metadata": {
        "id": "Sz8P_LS89YtY"
      },
      "source": [
        "# Print Statement\n",
        "# Click on this cell and hit the 'run' button to run your first bit of Python!\n",
        "\n",
        "print('Hello world!')"
      ],
      "execution_count": null,
      "outputs": []
    },
    {
      "cell_type": "code",
      "metadata": {
        "id": "CbQ45GaH-VFa"
      },
      "source": [
        "# Variables\n",
        "# What is a variable?\n",
        "# We can do calculations but where can we store the value?\n"
      ],
      "execution_count": null,
      "outputs": []
    },
    {
      "cell_type": "code",
      "metadata": {
        "id": "HmkIM3PhTGDb"
      },
      "source": [
        "number = 5 + 25\n",
        "number"
      ],
      "execution_count": null,
      "outputs": []
    },
    {
      "cell_type": "code",
      "metadata": {
        "id": "yNqvoEBVTIhw"
      },
      "source": [
        "other_number = number - 10"
      ],
      "execution_count": null,
      "outputs": []
    },
    {
      "cell_type": "markdown",
      "metadata": {
        "id": "KusaG-WNgdXV"
      },
      "source": [
        "**type()** allows us to see the data type of any object. In Python, data types are important, as they tell the computer what kind of data it is working with. This helps to make sure it isn't trying to do something with a piece of information that isn't compatible, like trying to multiple together pieces of text."
      ]
    },
    {
      "cell_type": "code",
      "metadata": {
        "id": "kJixUcjx_e7I"
      },
      "source": [
        "# Use type to tell you what kind of value is in the variable\n",
        "type(number)"
      ],
      "execution_count": null,
      "outputs": []
    },
    {
      "cell_type": "markdown",
      "metadata": {
        "id": "muD1HMVv_0EX"
      },
      "source": [
        "You should see 'int' displayed from running the code - that means that the data stored in the variable 'number' is an integer, or a whole number.\n",
        "\n",
        "Python has various data types, but the key ones to know initially are: strings, integers, floating point numbers, booleans, and lists.\n",
        "\n",
        "Using type() may not seem useful right now, but it can be handy when you're trying to work out why something isn't working - you can check if the variable holds the type of data you're expecting (certain actions can only be done on certain data types)."
      ]
    },
    {
      "cell_type": "code",
      "metadata": {
        "id": "uIrtQtBeVOxA"
      },
      "source": [
        "# Other Data Types - Strings, Booleans, Numbers, Floats, Lists\n",
        "\n",
        "party = \"right here\"\n",
        "postcode = 'YO10 3DX'\n",
        "fun = True\n",
        "biscuits = 2\n",
        "pi = 3.14\n",
        "shopping_list = ['bread', 'cheese', 'apples', 'biscuits']\n",
        "single_item_list = ['bread']\n",
        "list_of_different_types = ['cheese', 45, 76.8, 'hello friend', 'm4gic']"
      ],
      "execution_count": null,
      "outputs": []
    },
    {
      "cell_type": "code",
      "metadata": {
        "id": "9Grswx9FbQQG"
      },
      "source": [
        "type(party)\n",
        "#type(postcode)\n",
        "#type(fun)\n",
        "#type(biscuits)\n",
        "#type(pi)\n",
        "#type(shopping_list)\n",
        "#type(single_item_list)\n",
        "#type(list_of_different_types)"
      ],
      "execution_count": null,
      "outputs": []
    },
    {
      "cell_type": "markdown",
      "metadata": {
        "id": "r6u9KvCYTViX"
      },
      "source": [
        "You can also print the value of variables using a print statement. Try adding to the code below to print the value of the variable 'age'."
      ]
    },
    {
      "cell_type": "code",
      "metadata": {
        "id": "Sle7bUmNbQ3q"
      },
      "source": [
        "age = 27\n",
        "print(\"age :\", age)"
      ],
      "execution_count": null,
      "outputs": []
    },
    {
      "cell_type": "markdown",
      "metadata": {
        "id": "hs3MMq27I1ww"
      },
      "source": [
        "# Lists\n",
        "\n",
        "Now that we've looked at variables that have a single value, we're going to have a quick play with lists, which can contain multiple values. These will be useful later when we actually try and create some little programs, as they allow you to easily move through multiple values.\n",
        "\n",
        "Lists in Python are created by writing them in square brackets, separated by commas. They can contain other data types like strings, numbers, booleans, and even other lists!\n",
        "\n",
        "Individual items in a list can be accessed using an index number. These reference numbers start from 0 rather than 1, which can making counting a list a bit tricky!"
      ]
    },
    {
      "cell_type": "code",
      "metadata": {
        "id": "iQPPlsntIxWZ"
      },
      "source": [
        "# create a list of your favorite foods"
      ],
      "execution_count": null,
      "outputs": []
    },
    {
      "cell_type": "code",
      "metadata": {
        "id": "prxnVwi0bd6q",
        "colab": {
          "base_uri": "https://localhost:8080/"
        },
        "outputId": "19d84b66-03c6-4c5b-cb90-55db9727d2e1"
      },
      "source": [
        "icecream_list = ['chocolate', 'vanilla', 'strawberry', 'mint choc chip', 'cookie dough']\n",
        "\n",
        "print(icecream_list)\n",
        "print(icecream_list[2])"
      ],
      "execution_count": null,
      "outputs": [
        {
          "output_type": "stream",
          "text": [
            "['chocolate', 'vanilla', 'strawberry', 'mint choc chip', 'cookie dough']\n",
            "strawberry\n"
          ],
          "name": "stdout"
        }
      ]
    },
    {
      "cell_type": "code",
      "metadata": {
        "id": "o-0LSJcsbe-h",
        "colab": {
          "base_uri": "https://localhost:8080/"
        },
        "outputId": "8480abe6-d61a-4e3f-a828-8fdd2d45418c"
      },
      "source": [
        "# list of gift ideas\n",
        "gift_ideas = ['pen','chocolate','money']\n",
        "print(gift_ideas)\n",
        "# adding more gift ideas\n",
        "# print out the second item in your list\n",
        "# delete the first item"
      ],
      "execution_count": null,
      "outputs": [
        {
          "output_type": "stream",
          "text": [
            "['pen', 'chocolate', 'money']\n"
          ],
          "name": "stdout"
        }
      ]
    },
    {
      "cell_type": "code",
      "metadata": {
        "colab": {
          "base_uri": "https://localhost:8080/"
        },
        "id": "n77H3K4GTiuf",
        "outputId": "b264ea2f-a467-4354-c98f-d36e20442ab7"
      },
      "source": [
        "gift_ideas.append('card')\n",
        "print(gift_ideas[1])\n",
        "gift_ideas.remove('pen')\n",
        "gift_ideas"
      ],
      "execution_count": null,
      "outputs": [
        {
          "output_type": "stream",
          "text": [
            "chocolate\n"
          ],
          "name": "stdout"
        },
        {
          "output_type": "execute_result",
          "data": {
            "text/plain": [
              "['chocolate', 'money', 'card']"
            ]
          },
          "metadata": {
            "tags": []
          },
          "execution_count": 3
        }
      ]
    },
    {
      "cell_type": "markdown",
      "metadata": {
        "id": "CW7Rxk97MIYj"
      },
      "source": [
        "**Exercise 1**\n",
        "\n",
        "The code below contains an attempt to make a program that displays quiz questions and answers, but it contains some mistakes. Can you fix all the mistakes so it prints out all four lines?\n",
        "\n",
        "If you run the code as it is, you'll get error messages that may help you find the fixes (though sometimes these can be confusing to interpret)."
      ]
    },
    {
      "cell_type": "code",
      "metadata": {
        "id": "FnSfb9QyMJt8"
      },
      "source": [
        "#quiz app\n",
        "\n",
        "quiz_answer_1 = 'Portugal'\n",
        "quiz_answer_2 = 365\n",
        "\n"
      ],
      "execution_count": null,
      "outputs": []
    },
    {
      "cell_type": "code",
      "metadata": {
        "colab": {
          "base_uri": "https://localhost:8080/",
          "height": 131
        },
        "id": "njacwpp2TyHv",
        "outputId": "c7285708-5798-4251-b60d-6dbb22fc9fcd"
      },
      "source": [
        "print('Which country has the capital city Lisbon?\")\n",
        "print('Answer:' & quiz_answer_1)\n",
        "print('How many days are there in a year?')\n",
        "print('Answer: ' + quiz_answer_2)"
      ],
      "execution_count": null,
      "outputs": [
        {
          "output_type": "error",
          "ename": "SyntaxError",
          "evalue": "ignored",
          "traceback": [
            "\u001b[0;36m  File \u001b[0;32m\"<ipython-input-7-9608997869ec>\"\u001b[0;36m, line \u001b[0;32m1\u001b[0m\n\u001b[0;31m    print('Which country has the capital city Lisbon?\")\u001b[0m\n\u001b[0m                                                       ^\u001b[0m\n\u001b[0;31mSyntaxError\u001b[0m\u001b[0;31m:\u001b[0m EOL while scanning string literal\n"
          ]
        }
      ]
    },
    {
      "cell_type": "code",
      "metadata": {
        "colab": {
          "base_uri": "https://localhost:8080/"
        },
        "id": "_0DNWmxdTq_P",
        "outputId": "2a961f9d-91f2-4917-b2d9-4886378af18e"
      },
      "source": [
        "print(\"Which country has the capital city Lisbon?\")\n",
        "print('Answer:' , quiz_answer_1)\n",
        "print('How many days are there in a year?')\n",
        "print('Answer: ' + str(quiz_answer_2))"
      ],
      "execution_count": null,
      "outputs": [
        {
          "output_type": "stream",
          "text": [
            "Which country has the capital city Lisbon?\n",
            "Answer: Portugal\n",
            "How many days are there in a year?\n",
            "Answer: 365\n"
          ],
          "name": "stdout"
        }
      ]
    },
    {
      "cell_type": "markdown",
      "metadata": {
        "id": "KfkpHwuQivk6"
      },
      "source": [
        "**Exercise 2**\n",
        "\n",
        "Now you're going to make a program for calculating the age of a dog in dog years (useful, I know).\n",
        "\n",
        "You'll need to start with the age of the dog in regular years, then multiply that by 7, and print out the result to the user. Below you'll find some comments as hints for the lines of codes you'll need."
      ]
    },
    {
      "cell_type": "code",
      "metadata": {
        "id": "Hq2lFIVvi4OO"
      },
      "source": [
        "human_years = 10\n",
        "dog_years =     human_years *                  7\n",
        "dog_years"
      ],
      "execution_count": null,
      "outputs": []
    },
    {
      "cell_type": "code",
      "metadata": {
        "id": "IYeDTwZYjyz-"
      },
      "source": [],
      "execution_count": null,
      "outputs": []
    },
    {
      "cell_type": "markdown",
      "metadata": {
        "id": "qn2-WBnbjzZL"
      },
      "source": [
        "**Exercise 3**\n",
        "\n",
        "Below is a list of digital tools. Print that list out, then remove the value 'Outlook' and add the value 'Gmail'. Print the list again to prove it has changed."
      ]
    },
    {
      "cell_type": "code",
      "metadata": {
        "id": "1vYyQT9oj2L7"
      },
      "source": [
        "# digital tools list\n",
        "digital_tools = ['Word','Google Drive','EndNote','Zoom','Outlook']\n",
        "# add more code below"
      ],
      "execution_count": null,
      "outputs": []
    },
    {
      "cell_type": "code",
      "metadata": {
        "colab": {
          "base_uri": "https://localhost:8080/",
          "height": 35
        },
        "id": "_npdPdMUT-PN",
        "outputId": "e0e13d4f-884c-4ef0-f507-abbb142de29e"
      },
      "source": [
        "digital_tools.pop()"
      ],
      "execution_count": null,
      "outputs": [
        {
          "output_type": "execute_result",
          "data": {
            "application/vnd.google.colaboratory.intrinsic+json": {
              "type": "string"
            },
            "text/plain": [
              "'Outlook'"
            ]
          },
          "metadata": {
            "tags": []
          },
          "execution_count": 10
        }
      ]
    },
    {
      "cell_type": "code",
      "metadata": {
        "colab": {
          "base_uri": "https://localhost:8080/"
        },
        "id": "sn4RVhWlUA0Z",
        "outputId": "eaa8d8cd-320a-4f04-914b-cacac8f502db"
      },
      "source": [
        "digital_tools.append('Gmail')\n",
        "digital_tools"
      ],
      "execution_count": null,
      "outputs": [
        {
          "output_type": "execute_result",
          "data": {
            "text/plain": [
              "['Word', 'Google Drive', 'EndNote', 'Zoom', 'Gmail']"
            ]
          },
          "metadata": {
            "tags": []
          },
          "execution_count": 11
        }
      ]
    },
    {
      "cell_type": "code",
      "metadata": {
        "colab": {
          "base_uri": "https://localhost:8080/"
        },
        "id": "LS9tocUhUDS9",
        "outputId": "b944c640-9848-422b-aeb8-2672922b8d95"
      },
      "source": [
        "len(digital_tools)"
      ],
      "execution_count": null,
      "outputs": [
        {
          "output_type": "execute_result",
          "data": {
            "text/plain": [
              "5"
            ]
          },
          "metadata": {
            "tags": []
          },
          "execution_count": 12
        }
      ]
    },
    {
      "cell_type": "markdown",
      "metadata": {
        "id": "wB_UfjOeOQWv"
      },
      "source": [
        "## Loops\n",
        "\n",
        "One of the selling points of coding is the ability to repeat actions so they don't have to be done manually, or individual code doesn't need to be written for each item. Instead, you can make the code 'loop' through a set of values.\n",
        "\n",
        "Loops repeat a section of code for a particular set of values, or while a statement is true. Therefore, there are **for** loops and **while** loops.\n",
        "To create a **for** loop so you can loop through a list in Python, you write the 'for' keyword, then create a name for the variable that stands for each of the parts of the list in turn, then use the 'in' keyword to specify the list to loop through, then finish the line with a colon.\n",
        "\n",
        "The notebook should then automatically indent the next line. Anything that needs to occur within the loop (so is repeated for each item in the list) needs to be indented, but it can be on multiple lines as long as they are all indented."
      ]
    },
    {
      "cell_type": "code",
      "metadata": {
        "id": "ivBGeEwsLKhK",
        "colab": {
          "base_uri": "https://localhost:8080/"
        },
        "outputId": "3f52c90f-3db0-4026-d31d-6cf6354daed4"
      },
      "source": [
        "# Loops\n",
        "# indentation\n",
        "shopping_list = ['bread', 'cheese', 'apples', 'biscuits']\n",
        "for item in shopping_list:\n",
        "    print(item)"
      ],
      "execution_count": null,
      "outputs": [
        {
          "output_type": "stream",
          "text": [
            "bread\n",
            "cheese\n",
            "apples\n",
            "biscuits\n"
          ],
          "name": "stdout"
        }
      ]
    },
    {
      "cell_type": "code",
      "metadata": {
        "id": "iqUA_sQ4Lohh"
      },
      "source": [
        "# menu list\n"
      ],
      "execution_count": null,
      "outputs": []
    },
    {
      "cell_type": "markdown",
      "metadata": {
        "id": "v8jJIL6pQ9Hy"
      },
      "source": [
        "**User input**\n",
        "\n",
        "So far, to get values from a user, that user would need to understand Python and how to change the values of variables directly in the code. Obviously, this isn't ideal.\n",
        "\n",
        "Luckily, there are methods of getting information from users built into Python. The input() statement can be used to gather text input from the user, which you can then do things with using Python."
      ]
    },
    {
      "cell_type": "markdown",
      "metadata": {
        "id": "LFG_8_54ROa4"
      },
      "source": [
        "Anything gathered using input() is a string, so if you want to do calculations with the result, you'll need to convert into a number using int() or float() (depending on whether you're expecting just whole numbers, or possibly decimals)."
      ]
    },
    {
      "cell_type": "code",
      "metadata": {
        "id": "obeo5GaPLAnp",
        "colab": {
          "base_uri": "https://localhost:8080/"
        },
        "outputId": "6d821805-5b49-4e61-b7ab-df13feabcaa5"
      },
      "source": [
        "dinner = input(\"What would you like for dinner: \")\n",
        "print(\"You are having \" + dinner + \" for dinner\")"
      ],
      "execution_count": null,
      "outputs": [
        {
          "output_type": "stream",
          "text": [
            "What would you like for dinner: fish\n",
            "You are having fish for dinner\n"
          ],
          "name": "stdout"
        }
      ]
    },
    {
      "cell_type": "markdown",
      "metadata": {
        "id": "52_7kM2P3vyp"
      },
      "source": [
        "**Exercise 4**\n",
        "\n",
        "In the code cell below, try adapting your dogs years program from Exercise 2 so that you get the initial age variable from the user, convert it into an integer, and work with that number.\n",
        "\n",
        "Remember you can copy and paste content from code cells into other code cells so you don't have to start from scratch!"
      ]
    },
    {
      "cell_type": "code",
      "metadata": {
        "id": "V6M_jOYn3y25"
      },
      "source": [
        "years = input(\"Human Years: \")\n",
        "print((int(years))*7)"
      ],
      "execution_count": null,
      "outputs": []
    },
    {
      "cell_type": "code",
      "metadata": {
        "id": "TSM79NqFVB9i"
      },
      "source": [
        "plates = input(\"How many plates of chips do you want for dinner: \")\n",
        "cost = int(plates)*5\n",
        "print(\"this is going to cost me: £\",cost)"
      ],
      "execution_count": null,
      "outputs": []
    }
  ]
}